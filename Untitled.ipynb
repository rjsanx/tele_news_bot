{
 "cells": [
  {
   "cell_type": "code",
   "execution_count": 11,
   "id": "pacific-alberta",
   "metadata": {},
   "outputs": [],
   "source": [
    "import os\n",
    "os.environ[\"GOOGLE_APPLICATION_CREDENTIALS\"] = \"client.json\"\n",
    "\n",
    "import dialogflow_v2 as dialogflow\n",
    "dialogflow_session_client = dialogflow.SessionsClient()\n",
    "PROJECT_ID = \"newsbot-klpp\""
   ]
  },
  {
   "cell_type": "code",
   "execution_count": 12,
   "id": "major-parameter",
   "metadata": {},
   "outputs": [],
   "source": [
    "def detect_intent_from_text(text, session_id, language_code='en'):\n",
    "    session = dialogflow_session_client.session_path(PROJECT_ID, session_id)\n",
    "    text_input = dialogflow.types.TextInput(text=text, language_code=language_code)\n",
    "    query_input = dialogflow.types.QueryInput(text=text_input)\n",
    "    response = dialogflow_session_client.detect_intent(session=session, query_input=query_input)\n",
    "    return response.query_result"
   ]
  },
  {
   "cell_type": "code",
   "execution_count": 13,
   "id": "essential-chile",
   "metadata": {},
   "outputs": [],
   "source": [
    "response = detect_intent_from_text(\"show me sports news from india in bengali\", 12345)"
   ]
  },
  {
   "cell_type": "code",
   "execution_count": 14,
   "id": "stretch-condition",
   "metadata": {},
   "outputs": [
    {
     "data": {
      "text/plain": [
       "'get_news'"
      ]
     },
     "execution_count": 14,
     "metadata": {},
     "output_type": "execute_result"
    }
   ],
   "source": [
    "response.intent.display_name"
   ]
  },
  {
   "cell_type": "code",
   "execution_count": 15,
   "id": "pressed-joint",
   "metadata": {},
   "outputs": [
    {
     "data": {
      "text/plain": [
       "{'topic': 'Sports', 'language': 'Bengali', 'geo-country': ''}"
      ]
     },
     "execution_count": 15,
     "metadata": {},
     "output_type": "execute_result"
    }
   ],
   "source": [
    "dict(response.parameters)\n"
   ]
  },
  {
   "cell_type": "code",
   "execution_count": 24,
   "id": "female-mouse",
   "metadata": {},
   "outputs": [],
   "source": [
    "from gnewsclient import gnewsclient"
   ]
  },
  {
   "cell_type": "code",
   "execution_count": 25,
   "id": "owned-thursday",
   "metadata": {},
   "outputs": [],
   "source": [
    "client  = gnewsclient.NewsClient()"
   ]
  },
  {
   "cell_type": "code",
   "execution_count": 26,
   "id": "bronze-grill",
   "metadata": {
    "scrolled": true
   },
   "outputs": [
    {
     "data": {
      "text/plain": [
       "['Top Stories',\n",
       " 'World',\n",
       " 'Nation',\n",
       " 'Business',\n",
       " 'Technology',\n",
       " 'Entertainment',\n",
       " 'Sports',\n",
       " 'Science',\n",
       " 'Health']"
      ]
     },
     "execution_count": 26,
     "metadata": {},
     "output_type": "execute_result"
    }
   ],
   "source": [
    "client.topics"
   ]
  },
  {
   "cell_type": "code",
   "execution_count": 28,
   "id": "advance-shelter",
   "metadata": {},
   "outputs": [
    {
     "data": {
      "text/plain": [
       "[{'title': 'China floods: Why is the country facing record rains? - Times of India',\n",
       "  'link': 'https://news.google.com/__i/rss/rd/articles/CBMigwFodHRwczovL3RpbWVzb2ZpbmRpYS5pbmRpYXRpbWVzLmNvbS93b3JsZC9yZXN0LW9mLXdvcmxkL2NoaW5hLWZsb29kLXdoeS1pcy10aGUtY291bnRyeS1mYWNpbmctcmVjb3JkLXJhaW5zL2FydGljbGVzaG93Lzg0NjE4MDcwLmNtc9IBfmh0dHBzOi8vbS50aW1lc29maW5kaWEuY29tL3dvcmxkL3Jlc3Qtb2Ytd29ybGQvY2hpbmEtZmxvb2Qtd2h5LWlzLXRoZS1jb3VudHJ5LWZhY2luZy1yZWNvcmQtcmFpbnMvYW1wX2FydGljbGVzaG93Lzg0NjE4MDcwLmNtcw?oc=5',\n",
       "  'media': None},\n",
       " {'title': 'Brexit: UK urges EU to consider immediate overhaul of Northern Ireland Protocol - CNBC',\n",
       "  'link': 'https://news.google.com/__i/rss/rd/articles/CBMie2h0dHBzOi8vd3d3LmNuYmMuY29tLzIwMjEvMDcvMjEvdWstdG8tcmVwb3J0ZWRseS13YXJuLWV1LXRoYXQtaXQtbWF5LW92ZXJyaWRlLWtleS1icmV4aXQtYWdyZWVtZW50LW9uLW5vcnRoZXJuLWlyZWxhbmQuaHRtbNIBf2h0dHBzOi8vd3d3LmNuYmMuY29tL2FtcC8yMDIxLzA3LzIxL3VrLXRvLXJlcG9ydGVkbHktd2Fybi1ldS10aGF0LWl0LW1heS1vdmVycmlkZS1rZXktYnJleGl0LWFncmVlbWVudC1vbi1ub3J0aGVybi1pcmVsYW5kLmh0bWw?oc=5',\n",
       "  'media': None},\n",
       " {'title': 'Australia To Host The Olympics For The Third Time In 2032 After Brisbane Wins Its Bid - NPR',\n",
       "  'link': 'https://news.google.com/__i/rss/rd/articles/CBMinwFodHRwczovL3d3dy5ucHIub3JnL3NlY3Rpb25zL3Rva3lvLW9seW1waWNzLWxpdmUtdXBkYXRlcy8yMDIxLzA3LzIxLzEwMTg2OTkyNjMvYXVzdHJhbGlhLXRvLWhvc3QtdGhlLW9seW1waWNzLWZvci10aGUtdGhpcmQtdGltZS1pbi0yMDMyLWFmdGVyLWJyaXNiYW5lLXdpbnMtaXTSAQA?oc=5',\n",
       "  'media': None},\n",
       " {'title': 'How Nations Are Learning to Live With Covid-19 Pandemic - The New York Times',\n",
       "  'link': 'https://news.google.com/__i/rss/rd/articles/CBMiUGh0dHBzOi8vd3d3Lm55dGltZXMuY29tLzIwMjEvMDcvMjEvd29ybGQvYXNpYS9saXZpbmctd2l0aC1jb3ZpZC1jb3JvbmF2aXJ1cy5odG1s0gFUaHR0cHM6Ly93d3cubnl0aW1lcy5jb20vMjAyMS8wNy8yMS93b3JsZC9hc2lhL2xpdmluZy13aXRoLWNvdmlkLWNvcm9uYXZpcnVzLmFtcC5odG1s?oc=5',\n",
       "  'media': None},\n",
       " {'title': 'Sweden vs. United States - Football Match Report - July 21, 2021 - ESPN',\n",
       "  'link': 'https://news.google.com/__i/rss/rd/articles/CBMiMGh0dHBzOi8vd3d3LmVzcG4uY29tL3NvY2Nlci9yZXBvcnQ_Z2FtZUlkPTYwMTU2NdIBAA?oc=5',\n",
       "  'media': None},\n",
       " {'title': 'Inside one flood-wrecked house in Germany as people begin to rebuild - BBC News - BBC News',\n",
       "  'link': 'https://news.google.com/__i/rss/rd/articles/CBMiK2h0dHBzOi8vd3d3LnlvdXR1YmUuY29tL3dhdGNoP3Y9dFQ0X3ZEV1RNeUnSAQA?oc=5',\n",
       "  'media': None},\n",
       " {'title': 'Dubai making its own rain to beat 120-degree heat - New York Post',\n",
       "  'link': 'https://news.google.com/__i/rss/rd/articles/CBMiUGh0dHBzOi8vbnlwb3N0LmNvbS8yMDIxLzA3LzIxL2R1YmFpLW1ha2luZy1pdHMtb3duLXJhaW4tdG8tYmVhdC0xMjAtZGVncmVlLWhlYXQv0gFUaHR0cHM6Ly9ueXBvc3QuY29tLzIwMjEvMDcvMjEvZHViYWktbWFraW5nLWl0cy1vd24tcmFpbi10by1iZWF0LTEyMC1kZWdyZWUtaGVhdC9hbXAv?oc=5',\n",
       "  'media': None},\n",
       " {'title': '‘I never thought this would happen in France’: day one of showing Covid vaccine pass - The Guardian',\n",
       "  'link': 'https://news.google.com/__i/rss/rd/articles/CBMigwFodHRwczovL3d3dy50aGVndWFyZGlhbi5jb20vd29ybGQvMjAyMS9qdWwvMjEvaS1uZXZlci10aG91Z2h0LXRoaXMtd291bGQtaGFwcGVuLWluLWZyYW5jZS1kYXktb25lLW9mLXNob3dpbmctdGhlLWNvdmlkLXZhY2NpbmUtcGFzc9IBgwFodHRwczovL2FtcC50aGVndWFyZGlhbi5jb20vd29ybGQvMjAyMS9qdWwvMjEvaS1uZXZlci10aG91Z2h0LXRoaXMtd291bGQtaGFwcGVuLWluLWZyYW5jZS1kYXktb25lLW9mLXNob3dpbmctdGhlLWNvdmlkLXZhY2NpbmUtcGFzcw?oc=5',\n",
       "  'media': None},\n",
       " {'title': \"Israel's NSO and Pegasus are a clear and present danger to democracy around the world - Haaretz\",\n",
       "  'link': 'https://news.google.com/__i/rss/rd/articles/CBMigAFodHRwczovL3d3dy5oYWFyZXR6LmNvbS9pc3JhZWwtbmV3cy9pc3JhZWwtYmFja2VkLW5zby1wZWdhc3VzLWlzLWEtY2xlYXItcHJlc2VudC1kYW5nZXItdG8tZGVtb2NyYWN5LWFyb3VuZC10aGUtd29ybGQtMS4xMDAxNjI2OdIBhAFodHRwczovL3d3dy5oYWFyZXR6LmNvbS9hbXAvaXNyYWVsLW5ld3MvaXNyYWVsLWJhY2tlZC1uc28tcGVnYXN1cy1pcy1hLWNsZWFyLXByZXNlbnQtZGFuZ2VyLXRvLWRlbW9jcmFjeS1hcm91bmQtdGhlLXdvcmxkLTEuMTAwMTYyNjk?oc=5',\n",
       "  'media': None},\n",
       " {'title': 'Liverpool stripped of its UNESCO World Heritage listing - CNN',\n",
       "  'link': 'https://news.google.com/__i/rss/rd/articles/CBMiVWh0dHBzOi8vd3d3LmNubi5jb20vdHJhdmVsL2FydGljbGUvbGl2ZXJwb29sLXVuZXNjby13b3JsZC1oZXJpdGFnZS1kZWxldGVkL2luZGV4Lmh0bWzSAVFodHRwczovL3d3dy5jbm4uY29tL3RyYXZlbC9hbXAvbGl2ZXJwb29sLXVuZXNjby13b3JsZC1oZXJpdGFnZS1kZWxldGVkL2luZGV4Lmh0bWw?oc=5',\n",
       "  'media': None}]"
      ]
     },
     "execution_count": 28,
     "metadata": {},
     "output_type": "execute_result"
    }
   ],
   "source": [
    "client.topic = \"World\"\n",
    "#client.location = \"India\"\n",
    "client.get_news()\n"
   ]
  },
  {
   "cell_type": "code",
   "execution_count": 20,
   "id": "resident-intellectual",
   "metadata": {},
   "outputs": [],
   "source": [
    "client.location = \"India\"\n",
    "#client.language = \"Hindi\"\n",
    "client.topic = \"Top Stories\""
   ]
  },
  {
   "cell_type": "code",
   "execution_count": 9,
   "id": "supported-shipping",
   "metadata": {},
   "outputs": [
    {
     "data": {
      "text/plain": [
       "[]"
      ]
     },
     "execution_count": 9,
     "metadata": {},
     "output_type": "execute_result"
    }
   ],
   "source": [
    "client.get_news()"
   ]
  },
  {
   "cell_type": "code",
   "execution_count": null,
   "id": "ideal-spelling",
   "metadata": {},
   "outputs": [],
   "source": []
  }
 ],
 "metadata": {
  "kernelspec": {
   "display_name": "Python 3",
   "language": "python",
   "name": "python3"
  },
  "language_info": {
   "codemirror_mode": {
    "name": "ipython",
    "version": 3
   },
   "file_extension": ".py",
   "mimetype": "text/x-python",
   "name": "python",
   "nbconvert_exporter": "python",
   "pygments_lexer": "ipython3",
   "version": "3.8.5"
  }
 },
 "nbformat": 4,
 "nbformat_minor": 5
}
